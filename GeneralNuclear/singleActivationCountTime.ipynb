{
 "cells": [
  {
   "cell_type": "markdown",
   "metadata": {},
   "source": [
    "# Single Activation Foil Counting Tools\n",
    "\n",
    "This notebook is to aid in determining optimal count times given a set of activations and experiments design parameters. It requires PyNE to be loaded for nuclear data purposes. It is intended as a single use version.  \n",
    "\n",
    "A batch version is contained in the batchActivationCountTime notebook.  \n",
    "\n",
    "A more automated version for scripting and developing overall count plans can be found in the \n",
    "\n",
    "Import the following packages:"
   ]
  },
  {
   "cell_type": "code",
   "execution_count": 11,
   "metadata": {
    "collapsed": false
   },
   "outputs": [],
   "source": [
    "import sys\n",
    "import os\n",
    "import numpy as np\n",
    "\n",
    "from pyne import data\n",
    "from pyne import nucname\n",
    "from scipy.integrate import quad\n",
    "from math import exp, sqrt\n",
    "\n",
    "# Path to support scripts \n",
    "sys.path.insert(0,os.path.abspath('/home/pyne-user/Dropbox/UCB/Computational_Tools/Scripts/Python/GeneralNuclear'))\n",
    "from BasicNuclearCalcs import fractional_solid_angle, activity, production_decay\n",
    "from Counting import volume_solid_angle, germanium_eff_exp"
   ]
  },
  {
   "cell_type": "markdown",
   "metadata": {},
   "source": [
    "## User Experimental Input\n",
    "\n",
    "Specify the experimental parameters determining the reaction rate.  This assumes that the T<sub>1/2</sub> is >> 1 seconds, which should be true for all practical experiments.\n",
    "\n",
    "### Beam Variables\n",
    "src = the neutron source strength in in n/sec\n",
    "\n",
    "src_t = irradition time in s"
   ]
  },
  {
   "cell_type": "code",
   "execution_count": 15,
   "metadata": {
    "collapsed": false
   },
   "outputs": [],
   "source": [
    "src=4.93E9\n",
    "t=3600*2"
   ]
  },
  {
   "cell_type": "markdown",
   "metadata": {},
   "source": [
    "### Foil Variables\n",
    "foil = name of the foil reaction product written in the format \"XXAAA\" - ex \"U235\" or \"Rb86\"\n",
    "\n",
    "rx_rate = the reaction rate per source particle in units of reactions/cm<sup>3</sup>/src (this can be obtained from simulation or a simple calculation). It assumes that the natural abundance of the isotope is accounted for in this rate.  \n",
    "\n",
    "foil_r = the foil radius in cm\n",
    "\n",
    "foil_h = the foil height in cm\n",
    "\n",
    "foil_rho = the foil density in g cm<sup>-3</sup>\n",
    "\n",
    "vol = the foil volume in cm<sup>3</sup>\n",
    "\n",
    "trans_t = the foil transfer time post-irradiation in sec"
   ]
  },
  {
   "cell_type": "code",
   "execution_count": 31,
   "metadata": {
    "collapsed": false
   },
   "outputs": [
    {
     "name": "stdout",
     "output_type": "stream",
     "text": [
      "The number of Zr89 atoms in the sample after irradiation and 103320 s decay= 7.558e+07\n"
     ]
    }
   ],
   "source": [
    "#Basic foil parameters\n",
    "act_product=\"Zr89\"\n",
    "rx_rate=1.41E-6\n",
    "foil_r=2.5\n",
    "foil_h=0.1\n",
    "foil_rho=6.49\n",
    "BR=99.04\n",
    "gamma_energy=909.15\n",
    "\n",
    "#Delay between irradiation and counting\n",
    "decay_t=103320\n",
    "\n",
    "# Calculate the foil volume\n",
    "vol=np.pi*foil_r**2*foil_h\n",
    "\n",
    "# Calculate the initial number of atoms from the irradiation (assumes natural abundance is captured in rx_rate)\n",
    "n0=production_decay(data.half_life(act_product), 0.0, t, rx_rate, src, vol, decay_t)\n",
    "\n",
    "print \"The number of {} atoms in the sample after irradiation and {} s decay= {:.3e}\".format(act_product,decay_t,n0)"
   ]
  },
  {
   "cell_type": "markdown",
   "metadata": {},
   "source": [
    "### Decay Data\n",
    "\n",
    "The following uses PyNE to get decay data for the foil.  This is used to get the branching ratio of the primary gamma and provide general information about the decay radiation.\n",
    "\n",
    "Future revision can use this data to add automated functionality such as background count given the primary gamma.  "
   ]
  },
  {
   "cell_type": "code",
   "execution_count": 32,
   "metadata": {
    "collapsed": false,
    "scrolled": true
   },
   "outputs": [
    {
     "name": "stdout",
     "output_type": "stream",
     "text": [
      "Parent (t_1/2 [s])    Daughter    Level Transition     Gamma (keV)           BR (%)\n",
      "=======================================================================================\n",
      "Zr89 (282276.0)        Y89             1->0           909.15 +/-0.15         99.04\n",
      "Zr89 (282276.0)        Y89M            5->1           1620.8 +/-0.2         0.0732896\n",
      "Zr89 (282276.0)        Y89M            6->1           1657.3 +/-0.2         0.1059728\n",
      "Zr89 (282276.0)        Y89M            7->1           1713.0 +/-0.6         0.7447808\n",
      "Zr89 (282276.0)        Y89             3->0           1744.5 +/-0.2         0.1228096\n",
      "\n",
      "\n",
      "\n",
      "WARNING:BR and gamma energy must be specified by user. PyNE automated interfaces removed due to incomplete data.\n"
     ]
    }
   ],
   "source": [
    "# Get level transitions\n",
    "decay_pairs = data.gamma_from_to_byparent(nucname.id(act_product))\n",
    "\n",
    "# Get gamma ray energies\n",
    "energies = data.gamma_energy(nucname.id(act_product))\n",
    "\n",
    "# Relative gamma intensities\n",
    "intensities = data.gamma_photon_intensity(nucname.id(act_product))\n",
    "\n",
    "# Converts the relative intensities to decays per 100 decays of the parent and print \n",
    "print \"Parent (t_1/2 [s])    Daughter    Level Transition     Gamma (keV)           BR (%)\"\n",
    "print \"=======================================================================================\"\n",
    "photonbr, photonbr_error = data.decay_photon_branch_ratio(nucname.id(act_product),decay_pairs[0][1])\n",
    "final_intensities = []\n",
    "for i in range(len(intensities)):\n",
    "    # compute the intensities by multiplying the branch ratio and the relative intensity; ignore the errors \n",
    "    final_intensities.append(photonbr*intensities[i][0])\n",
    "    print \"{} ({})        {:5s}           {}->{}           {} +/-{}         {}\".format(act_product, data.half_life(act_product), \n",
    "                                            nucname.name(decay_pairs[i][1]), decay_pairs[i][0]%100, \\\n",
    "                                            decay_pairs[i][1]%100, energies[i][0], energies[i][1],\\\n",
    "                                            final_intensities[-1])\n",
    "    \n",
    "print \"\\n\\n\\nWARNING:BR and gamma energy must be specified by user. PyNE automated interfaces removed due to incomplete data.\""
   ]
  },
  {
   "cell_type": "markdown",
   "metadata": {},
   "source": [
    "### Counting Facility Variables\n",
    "background = the background rate at the peak of interest in counts/s\n",
    "\n",
    "det_r = radius of the detector in cm\n",
    "\n",
    "det_foil_dist = the distance from the detector face to the foil in cm\n",
    "\n",
    "sigma = the desired counting statistics level"
   ]
  },
  {
   "cell_type": "code",
   "execution_count": 33,
   "metadata": {
    "collapsed": false
   },
   "outputs": [],
   "source": [
    "background=0.01\n",
    "det_r=3.245\n",
    "det2foil_dist=1\n",
    "sigma=0.01"
   ]
  },
  {
   "cell_type": "markdown",
   "metadata": {},
   "source": [
    "### Calculate the absolute efficiency\n",
    "\n",
    "Takes into account the geometry correction factor (gcf), detector intrinsic efficiency, and the energy and position dependence of those variables. Change the foil distance if significant dead time encountered."
   ]
  },
  {
   "cell_type": "code",
   "execution_count": 34,
   "metadata": {
    "collapsed": false
   },
   "outputs": [
    {
     "name": "stdout",
     "output_type": "stream",
     "text": [
      "The foil is 1 cm from the detector, and the dead time is 0.00425569693876%\n",
      "The GCF is 0.316168194466, and the pt src fractional solid angle is 0.352750143624.\n",
      "The overall absolute efficiency is 2.315202% @ 909.15 keV\n"
     ]
    }
   ],
   "source": [
    "while True:\n",
    "    # Calculate the GCF\n",
    "    gcf=volume_solid_angle(foil_r,det_r,det2foil_dist)\n",
    "\n",
    "    # Calculate absolute efficiency\n",
    "    abs_eff=germanium_eff_exp(gamma_energy, a=4.36039089e-06, b=2.11739894e+00, c=5.40245119e-01, d=5.92997979e-01) \\\n",
    "            *(gcf/fractional_solid_angle(det_r,det2foil_dist))\n",
    "\n",
    "    # Use a simple paralyzable model to calculate worst case scenario\n",
    "    n=activity(data.half_life(act_product),n0)*abs_eff*BR/100\n",
    "    tau=1E-5\n",
    "    meas=n*exp(-n*tau)\n",
    "\n",
    "    if n/meas>1.01:\n",
    "        det2foil_dist+=1\n",
    "    else:\n",
    "        break\n",
    "        \n",
    "    if det2foil_dist>5:\n",
    "        print \"ERROR: The foil is hot!\"\n",
    "        break\n",
    "\n",
    "print \"The foil is {} cm from the detector, and the dead time is {}%\".format(det2foil_dist,(n/meas-1)*100)\n",
    "print \"The GCF is {}, and the pt src fractional solid angle is {}.\".format(gcf,fractional_solid_angle(det_r,det2foil_dist))\n",
    "print \"The overall absolute efficiency is {:2f}% @ {} keV\".format(abs_eff*100,gamma_energy)"
   ]
  },
  {
   "cell_type": "markdown",
   "metadata": {},
   "source": [
    "### Counting time calculations\n",
    "\n",
    "Bringing it all together...."
   ]
  },
  {
   "cell_type": "code",
   "execution_count": 35,
   "metadata": {
    "collapsed": false
   },
   "outputs": [
    {
     "name": "stdout",
     "output_type": "stream",
     "text": [
      "The activity of Zr89 for the 909.15 line at the start of counting (103320 s after irradiation) = 183.81146983\n",
      "The specific activity of Zr89 for the 909.15 line at the start of counting (103320 s after irradiation) = 14.424408762\n",
      "The average count rate in the detector over the counting period is 4.243\n",
      "The optimal count time for the Zr89 foil with a desired statistical level of sigma=0.01 is 2477 sec [0.69 hr].\n",
      "The optimal time for background counting is 120 sec [0.03 hr]\n"
     ]
    }
   ],
   "source": [
    "# Define the activity integrand accounting for all of the efficiencies\n",
    "def integrand(t):\n",
    "    return activity(data.half_life(act_product),n0,t)*abs_eff*BR/100\n",
    "    \n",
    "# Report the starting activities\n",
    "print \"The activity of {} for the {} line at the start of counting ({} s after irradiation) = {}\"\\\n",
    "       .format(act_product,gamma_energy,decay_t,activity(data.half_life(act_product),n0)*BR/100)\n",
    "print \"The specific activity of {} for the {} line at the start of counting ({} s after irradiation) = {}\"\\\n",
    "       .format(act_product,gamma_energy,decay_t,activity(data.half_life(act_product),n0)*BR/100/(vol*foil_rho))\n",
    "\n",
    "# Approximate the optimal foil counting time using an average count rate\n",
    "tf=1\n",
    "diff=1000\n",
    "try:\n",
    "    while diff > 1:\n",
    "        prevt=tf\n",
    "        S = quad(integrand, 0, tf)[0]/tf\n",
    "        tf=((sqrt(S+background)+sqrt(background))**2/(sigma**2*S**2))/(1+1/sqrt((S+background)/background))  #Knoll eqn 3.54/55\n",
    "        diff=tf-prevt\n",
    "    print \"The average count rate in the detector over the counting period is {:.3f}\".format(S)\n",
    "    print \"The optimal count time for the {} foil with a desired statistical level of sigma={} is {:.0f} sec [{:.2f} hr].\"\\\n",
    "          .format(act_product,sigma,tf,tf/3600)\n",
    "    # Calculate the optimal time for background counting\n",
    "    tb=tf/sqrt((S+background)/background)\n",
    "    print \"The optimal time for background counting is {:.0f} sec [{:.2f} hr]\".format(tb,tb/3600)\n",
    "except ZeroDivisionError:\n",
    "    tf=1E99\n",
    "    print \"{}% statistics cannot be achieved with this setup\".format(sigma*100)\n"
   ]
  },
  {
   "cell_type": "code",
   "execution_count": 51,
   "metadata": {
    "collapsed": false
   },
   "outputs": [
    {
     "name": "stdout",
     "output_type": "stream",
     "text": [
      "8.33407394595 0.01 0.01\n",
      "1242.92171225\n"
     ]
    }
   ],
   "source": [
    "print S, background, sigma\n",
    "print ((sqrt(S+background)+sqrt(background))**2/(sigma**2*S**2))/(1+1/sqrt((S+background)/background))"
   ]
  },
  {
   "cell_type": "code",
   "execution_count": null,
   "metadata": {
    "collapsed": true
   },
   "outputs": [],
   "source": []
  }
 ],
 "metadata": {
  "kernelspec": {
   "display_name": "Python 2",
   "language": "python",
   "name": "python2"
  },
  "language_info": {
   "codemirror_mode": {
    "name": "ipython",
    "version": 2
   },
   "file_extension": ".py",
   "mimetype": "text/x-python",
   "name": "python",
   "nbconvert_exporter": "python",
   "pygments_lexer": "ipython2",
   "version": "2.7.6"
  }
 },
 "nbformat": 4,
 "nbformat_minor": 0
}
