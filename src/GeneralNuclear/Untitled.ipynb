{
 "cells": [
  {
   "cell_type": "code",
   "execution_count": 1,
   "metadata": {
    "collapsed": true
   },
   "outputs": [],
   "source": [
    "from BasicNuclearCalcs import solid_angle\n",
    "\n",
    "ea1=0.0446\n",
    "ea5=0.0123\n",
    "ea10=0.0044\n",
    "ea18=0.0016\n",
    "\n",
    "s1=solid_angle(6.49/2.0,1)\n",
    "s5=solid_angle(6.49/2.0,5)\n",
    "s10=solid_angle(6.49/2.0,10)\n",
    "s18=solid_angle(6.49/2.0,18)"
   ]
  },
  {
   "cell_type": "code",
   "execution_count": 2,
   "metadata": {},
   "outputs": [
    {
     "name": "stdout",
     "output_type": "stream",
     "text": [
      "0.0984305375978 0.324914998504 0.0224867012099\n"
     ]
    }
   ],
   "source": [
    "print s18/s5, s18/s10, s18/s1"
   ]
  },
  {
   "cell_type": "code",
   "execution_count": 3,
   "metadata": {},
   "outputs": [
    {
     "name": "stdout",
     "output_type": "stream",
     "text": [
      "0.352929063619 0.00793621040187\n"
     ]
    }
   ],
   "source": [
    "print s1/(4*3.14), s18/(4*3.14)"
   ]
  },
  {
   "cell_type": "code",
   "execution_count": 4,
   "metadata": {},
   "outputs": [
    {
     "name": "stdout",
     "output_type": "stream",
     "text": [
      "0.349755614553\n"
     ]
    }
   ],
   "source": [
    "print solid_angle(3.17,1)/(4*3.14)"
   ]
  },
  {
   "cell_type": "code",
   "execution_count": 9,
   "metadata": {},
   "outputs": [
    {
     "name": "stdout",
     "output_type": "stream",
     "text": [
      "0.0702120460924\n",
      "0.0806275226728\n"
     ]
    }
   ],
   "source": [
    "from Counting import volume_solid_angle\n",
    "print volume_solid_angle(2.5, 3.17, 5)\n",
    "print s5/(4*3.14)"
   ]
  },
  {
   "cell_type": "code",
   "execution_count": 18,
   "metadata": {},
   "outputs": [
    {
     "name": "stdout",
     "output_type": "stream",
     "text": [
      "0.126371003688 0.201607558139 0.626816796225\n",
      "0.152553366298 0.201607558139 0.756684757783\n",
      "0.180139628491 0.201607558139 0.893516245886\n"
     ]
    }
   ],
   "source": [
    "ei1=ea1*4*3.14/s1\n",
    "ei5=ea5*4*3.14/s5\n",
    "ei10=ea10*4*3.14/s10\n",
    "ei18=ea18*4*3.14/s18\n",
    "\n",
    "print ei1, ei18, ei1/ei18\n",
    "print ei5, ei18, ei5/ei18\n",
    "print ei10, ei18, ei10/ei18"
   ]
  },
  {
   "cell_type": "code",
   "execution_count": 12,
   "metadata": {},
   "outputs": [
    {
     "name": "stdout",
     "output_type": "stream",
     "text": [
      "27.875\n",
      "44.4707291953\n"
     ]
    }
   ],
   "source": [
    "print ea1/ea18\n",
    "print s1/s18"
   ]
  },
  {
   "cell_type": "code",
   "execution_count": null,
   "metadata": {
    "collapsed": true
   },
   "outputs": [],
   "source": []
  }
 ],
 "metadata": {
  "kernelspec": {
   "display_name": "Python 2",
   "language": "python",
   "name": "python2"
  },
  "language_info": {
   "codemirror_mode": {
    "name": "ipython",
    "version": 2
   },
   "file_extension": ".py",
   "mimetype": "text/x-python",
   "name": "python",
   "nbconvert_exporter": "python",
   "pygments_lexer": "ipython2",
   "version": "2.7.13"
  }
 },
 "nbformat": 4,
 "nbformat_minor": 2
}
