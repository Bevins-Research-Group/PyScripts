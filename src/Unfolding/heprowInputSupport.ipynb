{
 "cells": [
  {
   "cell_type": "markdown",
   "metadata": {},
   "source": [
    "# Input Generation Support for HEPROW and GRAVEL\n",
    "This notebook takes root TTrees and turns them into the correctly formatted .phs and .rsp files for the the GRAVEL and HEPROW unfolding programs.  It will also generate the input neutron spectrum (for a simulation) to use in comparison.  \n",
    "\n",
    "Root must be installed and PyRoot enabled for this notebook to work.\n",
    "\n",
    "First, load the necessary libraries, set the appropriate environment variables, and compile the C++ support macros from the instructions @ https://bitbucket.org/berkeleylab/nsd-rootscripts/wiki/LibraryCompilation.\n",
    "\n",
    "Load python dependencies:"
   ]
  },
  {
   "cell_type": "code",
   "execution_count": 1,
   "metadata": {
    "collapsed": false
   },
   "outputs": [
    {
     "data": {
      "text/plain": [
       "0L"
      ]
     },
     "execution_count": 1,
     "metadata": {},
     "output_type": "execute_result"
    }
   ],
   "source": [
    "from ROOT import gROOT\n",
    "import numpy as np\n",
    "\n",
    "gROOT.ProcessLine('HistogramWriter writer;')\n",
    "gROOT.ProcessLine('HistogramOperations ops;')"
   ]
  },
  {
   "cell_type": "markdown",
   "metadata": {},
   "source": [
    "## Specify the user inputs\n",
    "\n",
    "#### Input File Locations\n",
    "dataPath = the absolute location of where the root files are located <br/>\n",
    "phsName = file name for the pulse height spectra TTree <br/>\n",
    "rspName = file name for the response matrix TTree <br/>"
   ]
  },
  {
   "cell_type": "code",
   "execution_count": 3,
   "metadata": {
    "collapsed": false
   },
   "outputs": [
    {
     "name": "stdout",
     "output_type": "stream",
     "text": [
      "/home/pyne-user/Dropbox/UCB/Research/ETAs/88Inch/Unfolding/Simulated/PHS/16MeVBe/16MeVBeRun00046.root\n",
      "/home/pyne-user/Dropbox/UCB/Research/ETAs/88Inch/Unfolding/Simulated/PHS/ResponseMatrices\n"
     ]
    }
   ],
   "source": [
    "dataPath=\"/home/pyne-user/Dropbox/UCB/Research/ETAs/88Inch/Unfolding/Simulated/PHS/\"\n",
    "phsName=\"16MeVBe/16MeVBeRun00046.root\"\n",
    "\n",
    "rspName=\"ResponseMatrices/NeuSim18mil.root\""
   ]
  },
  {
   "cell_type": "markdown",
   "metadata": {},
   "source": [
    "#### Output File Location\n",
    "outPath = the absolute path of where to place the generated HEPROW input files"
   ]
  },
  {
   "cell_type": "code",
   "execution_count": 4,
   "metadata": {
    "collapsed": false
   },
   "outputs": [],
   "source": [
    "outPath=\"/home/pyne-user/Dropbox/UCB/Research/ETAs/88Inch/Unfolding/Simulated/PHS/\""
   ]
  },
  {
   "cell_type": "markdown",
   "metadata": {},
   "source": [
    "#### Pulse Height Binning\n",
    "phsBins = the number of bins to use for the binning of the pulse height spectrum <br/>\n",
    "phsEmin = the minimum Energy to use for the binning of the pulse height spectrum <br/>\n",
    "phsEmax = the maximum Energy to use for the binning of the pulse height spectrum <br/>"
   ]
  },
  {
   "cell_type": "code",
   "execution_count": 5,
   "metadata": {
    "collapsed": true
   },
   "outputs": [],
   "source": [
    "phsBins=56\n",
    "phsEmin=0.0\n",
    "phsEmax=14"
   ]
  },
  {
   "cell_type": "markdown",
   "metadata": {},
   "source": [
    "#### Response Matrix Binning\n",
    "\n",
    "uniform = boolean variable indicating whether uniform bins or variable bins are input\n",
    "\n",
    "##### If uniform bins are desired:\n",
    "rspEwidth = the width of bins to use for the binning of the response matrix energy <br/>\n",
    "rspEmin = the minimum Energy to use for the binning of the response matrix  <br/>\n",
    "rspEmax = the maximum Energy to use for the binning of the response matrix  <br/>\n",
    "rspLwidth = the width of bins to use for the binning of the response matrix light <br/>\n",
    "rspLmin = the minimum Light to use for the binning of the response matrix  <br/>\n",
    "rspLmax = the maximum Light to use for the binning of the response matrix  <br/>\n",
    "\n",
    "##### If variable bins are desired:\n",
    "rspEbins = the bin edges for the binning of the response matrix energy <br/>\n",
    "respLbins = the bin edges for the binning of the response matrix light <br/>"
   ]
  },
  {
   "cell_type": "code",
   "execution_count": 6,
   "metadata": {
    "collapsed": false
   },
   "outputs": [],
   "source": [
    "uniform = True\n",
    "\n",
    "# Must be defined if uniform = True\n",
    "rspEwidth=10\n",
    "rspEmin=0.0\n",
    "rspEmax=40.0\n",
    "rspLwidth=0.25\n",
    "rspLmin=0.0\n",
    "rspLmax=30.0\n",
    "\n",
    "# Must be defined if uniform = False\n",
    "rspEbins=[0.0,1.0,2.0,3.0,4.0,5.0,6.0,7.0,8.0,9.0,10.0,11.0,12.0,13.0,14.0,15.0,16.0,17.0,18.0,19.0,20.0,21.0,22.0]\n",
    "rspEbins=[0.0,1.0,2.0,3.0,4.0,5.0,5.5,6.0,6.5,7.0,7.5,8.0,8.5,9.0,9.5,10.0,10.5,11.0,11.5,12.0,12.5,13.0,13.5,14.0,14.5,15.0,15.5,16.0,16.5,17.0,17.5,18.0,18.5,19.0,19.5,20.0,20.5,21.0]\n",
    "rspEbins=[0.5,1.0,1.5,2.0,2.5,3.0,3.5,4.0,4.5,5.0,5.5,6.0,6.5,7.0,7.5,8.0,8.5,9.0,9.5,10.0,10.5,11.0,11.5,12.0,12.5,13.0,13.5,14.0,14.5,15.0,15.5,16.0,16.5,17.0,17.5,18.0,18.5,19.0,19.5,20.0]\n",
    "rspLbins=np.arange(rspLmin,rspLmax,rspLwidth)"
   ]
  },
  {
   "cell_type": "markdown",
   "metadata": {},
   "source": [
    "## Load PHS Data File\n",
    "If this needs to be reran, the notebook kernel needs to be reset"
   ]
  },
  {
   "cell_type": "code",
   "execution_count": 7,
   "metadata": {
    "collapsed": false
   },
   "outputs": [
    {
     "data": {
      "text/plain": [
       "47366329344096L"
      ]
     },
     "execution_count": 7,
     "metadata": {},
     "output_type": "execute_result"
    }
   ],
   "source": [
    "gROOT.ProcessLine('TFile f(\"{}\")'.format(dataPath+phsName))"
   ]
  },
  {
   "cell_type": "markdown",
   "metadata": {},
   "source": [
    "## Create the .phs File"
   ]
  },
  {
   "cell_type": "code",
   "execution_count": null,
   "metadata": {
    "collapsed": false
   },
   "outputs": [],
   "source": [
    "gROOT.ProcessLine('simEventTree->Draw(\"getNetTargetLight()>>n1({},{},{})\")'.format(phsBins,phsEmin,phsEmax))\n",
    "gROOT.ProcessLine('writer.PhToHEPROW(n1,\"{}phs_101\")'.format(outPath))"
   ]
  },
  {
   "cell_type": "markdown",
   "metadata": {},
   "source": [
    "## Rebin Statistically"
   ]
  },
  {
   "cell_type": "code",
   "execution_count": null,
   "metadata": {
    "collapsed": false
   },
   "outputs": [],
   "source": [
    "gROOT.ProcessLine('ops.rebinStatistically(n1,10,false)->Draw()')\n",
    "gROOT.ProcessLine('writer.PhToHEPROW(ops.rebinStatistically(n1,10,false),\"{}stat_10_phs_25\")'.format(outPath))"
   ]
  },
  {
   "cell_type": "markdown",
   "metadata": {},
   "source": [
    "### Smear the PHS and Create the .phs File\n",
    "Only do this for a simulated spectrum"
   ]
  },
  {
   "cell_type": "code",
   "execution_count": null,
   "metadata": {
    "collapsed": false
   },
   "outputs": [],
   "source": [
    "gROOT.ProcessLine('ops.rebinStatistically(ops.skewedGausSmear(n1,1.00065e-05,0.0897338,8.65248e-07),10,false)->Draw()')\n",
    "gROOT.ProcessLine('writer.PhToHEPROW(ops.rebinStatistically(ops.skewedGausSmear(n1,1.00065e-05,0.0897338,8.65248e-07),10,false),\"{}stat_10_smearedPHS_25\")'.format(outPath))"
   ]
  },
  {
   "cell_type": "code",
   "execution_count": null,
   "metadata": {
    "collapsed": false
   },
   "outputs": [],
   "source": [
    "gROOT.ProcessLine('ops.skewedGausSmear(n1,1.00065e-05,0.0897338,8.65248e-07)->Draw()')\n",
    "gROOT.ProcessLine('writer.PhToHEPROW(ops.skewedGausSmear(n1,1.00065e-05,0.0897338,8.65248e-07),\"{}smearedPHS_25\")'.format(outPath))"
   ]
  },
  {
   "cell_type": "markdown",
   "metadata": {},
   "source": [
    "## Ouput the Initial Spectrum\n",
    "\n",
    "For comparison to the unfolded spectrum.  Only useful for simulated TTrees"
   ]
  },
  {
   "cell_type": "code",
   "execution_count": null,
   "metadata": {
    "collapsed": false
   },
   "outputs": [],
   "source": [
    "gROOT.ProcessLine('primary->Draw(\"nEn>>n2(40,0,20)\")')\n",
    "gROOT.ProcessLine('writer.Th1ToAscii(n2,\"{}inputSpectrum_50\")'.format(outPath))"
   ]
  },
  {
   "cell_type": "markdown",
   "metadata": {},
   "source": [
    "Create an input .flu file if desired:"
   ]
  },
  {
   "cell_type": "code",
   "execution_count": null,
   "metadata": {
    "collapsed": false
   },
   "outputs": [],
   "source": [
    "gROOT.ProcessLine('writer.PhToHEPROW(n2,\"{}sim.flu\")'.format(outPath))"
   ]
  },
  {
   "cell_type": "markdown",
   "metadata": {},
   "source": [
    "## Load Response Matrix Data File\n",
    "If this needs to be reran, the notebook kernel needs to be reset. The .phs and Initial Spectrum cells above may not work once this is run."
   ]
  },
  {
   "cell_type": "code",
   "execution_count": null,
   "metadata": {
    "collapsed": false
   },
   "outputs": [],
   "source": [
    "gROOT.ProcessLine('SimulationManipulation sm(\"{}\",0)'.format(dataPath+rspName))"
   ]
  },
  {
   "cell_type": "markdown",
   "metadata": {},
   "source": [
    "## Create the .rsp File"
   ]
  },
  {
   "cell_type": "code",
   "execution_count": null,
   "metadata": {
    "collapsed": false,
    "scrolled": true
   },
   "outputs": [],
   "source": [
    "# Create the bin structures\n",
    "if uniform:\n",
    "    rspEbins=np.arange(rspEmin,rspEmax,rspEwidth)\n",
    "    rspEbins=np.append(rspEbins,rspEmax)\n",
    "    print rspEbins\n",
    "    rspLbins=np.arange(rspLmin,rspLmax,rspLwidth)\n",
    "    rspLbins=np.append(rspLbins,rspLmax)\n",
    "    print rspLbins\n",
    "    gROOT.ProcessLine('const Int_t EBINS = {}; const Int_t LBINS = {};'.format(len(rspEbins)-1,len(rspLbins)-1))\n",
    "    gROOT.ProcessLine('Double_t eEdges[EBINS + 1] = {}{}{};'.format(\"{\",\", \".join(str(e) for e in rspEbins),\"}\"))\n",
    "    gROOT.ProcessLine('Double_t lEdges[LBINS + 1] = {}{}{};'.format(\"{\",\", \".join(str(e) for e in rspLbins),\"}\"))\n",
    "    gROOT.ProcessLine('axis1 = TAxis(EBINS,eEdges);')\n",
    "    gROOT.ProcessLine('axis2 = TAxis(LBINS,lEdges);')\n",
    "else:\n",
    "    gROOT.ProcessLine('const Int_t EBINS = {}; const Int_t LBINS = {};'.format(len(rspEbins)-1,len(rspLbins)-1))\n",
    "    gROOT.ProcessLine('Double_t eEdges[EBINS + 1] = {}{}{};'.format(\"{\",\", \".join(str(e) for e in rspEbins),\"}\"))\n",
    "    gROOT.ProcessLine('Double_t lEdges[LBINS + 1] = {}{}{};'.format(\"{\",\", \".join(str(e) for e in rspLbins),\"}\"))\n",
    "    gROOT.ProcessLine('axis1 = TAxis(EBINS,eEdges);')\n",
    "    gROOT.ProcessLine('axis2 = TAxis(LBINS,lEdges);')\n",
    "\n",
    "# Create the Histogram and output file\n",
    "gROOT.ProcessLine('TH2* hist=sm.getNormalizedResponseMatrix(axis1,axis2)')\n",
    "#gROOT.ProcessLine('TH2* hist=sm.getNormalizedResponseMatrix(1.0, 0.05, 0, 22)')\n",
    "#gROOT.ProcessLine('hist->Draw()')\n",
    "gROOT.ProcessLine('hist->Draw(\"colz\")')\n",
    "gROOT.ProcessLine('writer.ResponseToHEPROW(hist,\"{}resp_25_1\")'.format(outPath))"
   ]
  },
  {
   "cell_type": "markdown",
   "metadata": {},
   "source": [
    "### Smear the Response Matrix and Create the .rsp File\n",
    "Only do this for a simulated response matrix"
   ]
  },
  {
   "cell_type": "code",
   "execution_count": null,
   "metadata": {
    "collapsed": false
   },
   "outputs": [],
   "source": [
    "gROOT.ProcessLine('TH2* smearHist = ops.skewedGausSmearMatrix(hist,1.00065e-05,0.0897338,8.65248e-07)')\n",
    "gROOT.ProcessLine('smearHist->Draw(\"colz\")')\n",
    "gROOT.ProcessLine('writer.ResponseToHEPROW(smearHist,\"{}smearedResp_25_1\")'.format(outPath))"
   ]
  },
  {
   "cell_type": "markdown",
   "metadata": {},
   "source": [
    "## Mik.inp Support\n",
    "\n",
    "These lines are useful to develop the mik.inp file:"
   ]
  },
  {
   "cell_type": "code",
   "execution_count": null,
   "metadata": {
    "collapsed": false
   },
   "outputs": [],
   "source": [
    "print \"{}\".format(len(rspEbins)-1)\n",
    "for i in range(1,len(rspEbins)):\n",
    "    print \"{:.1f}                                     right boundary of {:1d} energy interval\".format(rspEbins[i],i)"
   ]
  },
  {
   "cell_type": "code",
   "execution_count": null,
   "metadata": {
    "collapsed": true
   },
   "outputs": [],
   "source": []
  }
 ],
 "metadata": {
  "kernelspec": {
   "display_name": "Python 2",
   "language": "python",
   "name": "python2"
  },
  "language_info": {
   "codemirror_mode": {
    "name": "ipython",
    "version": 2
   },
   "file_extension": ".py",
   "mimetype": "text/x-python",
   "name": "python",
   "nbconvert_exporter": "python",
   "pygments_lexer": "ipython2",
   "version": "2.7.6"
  }
 },
 "nbformat": 4,
 "nbformat_minor": 0
}
