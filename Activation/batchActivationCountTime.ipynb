{
 "cells": [
  {
   "cell_type": "markdown",
   "metadata": {},
   "source": [
    "# Batch Activation Counting Tools\n",
    "\n",
    "This notebook is to aid in determining optimal count times given a set of activations and experiments design parameters.\n",
    "It reads from a formatted excel input to obtain the data for multiple foils and plots the count time versus the irradiation time.\n",
    "\n",
    "This is a good starting point to scope out experimental parameters, but it will not develop a count plan.  For that purpose, refer to \n",
    "\n",
    "Import the following packages:"
   ]
  },
  {
   "cell_type": "code",
   "execution_count": 1,
   "metadata": {
    "collapsed": false
   },
   "outputs": [
    {
     "name": "stderr",
     "output_type": "stream",
     "text": [
      "/usr/local/lib/python2.7/dist-packages/ipykernel/__main__.py:8: QAWarning: pyne.data is not yet QA compliant.\n"
     ]
    }
   ],
   "source": [
    "import openpyxl\n",
    "import sys\n",
    "import os\n",
    "\n",
    "import numpy as np\n",
    "import matplotlib.pyplot as plt\n",
    "\n",
    "from pyne import data\n",
    "from pyne import nucname\n",
    "from scipy.integrate import quad\n",
    "from math import exp,sqrt\n",
    "\n",
    "sys.path.insert(0,os.path.abspath('/home/pyne-user/Dropbox/UCB/Computational_Tools/Scripts/Python/GeneralNuclear'))\n",
    "from BasicNuclearCalcs import fractional_solid_angle, activity, production_decay\n",
    "from Counting import volume_solid_angle, germanium_eff"
   ]
  },
  {
   "cell_type": "markdown",
   "metadata": {},
   "source": [
    "## User Experimental Input\n",
    "\n",
    "Specify the experimental parameters determining the reaction rate.  This assumes that the T<sub>1/2</sub> is >> 1 seconds, which should be true for all practical experiments.\n",
    "\n",
    "### Counting Facility Variables\n",
    "background = the background rate at the peak of interest in counts/s\n",
    "\n",
    "det_r = radius of the detector in cm\n",
    "\n",
    "det_foil_dist = the distance from the detector face to the foil in cm\n",
    "\n",
    "sigma = the desired counting statistics level\n",
    "\n",
    "trans_t= the time to transfer the foil to the counting facility following irradiation in sec\n",
    "\n",
    "### File Name\n",
    "fname = path of the file containing the foil and beam data"
   ]
  },
  {
   "cell_type": "code",
   "execution_count": 6,
   "metadata": {
    "collapsed": false
   },
   "outputs": [],
   "source": [
    "background=0.01\n",
    "det_r=3.245\n",
    "det2foil_dist=1\n",
    "sigma=0.01\n",
    "trans_t=0\n",
    "\n",
    "fname='/home/pyne-user/Dropbox/UCB/Research/ETAs/88Inch/Unfolding/Simulated/Activation/Vault_ETA_IRDFF/Foils.xlsx'  "
   ]
  },
  {
   "cell_type": "markdown",
   "metadata": {},
   "source": [
    "## Read in foil data from Excel workbook and calculate run parameters\n",
    "\n",
    "### Beam Variables\n",
    "src = the neutron source strength in in n/sec\n",
    "\n",
    "### Foil Variables\n",
    "rx_prod = name of the foil reaction product written in the format \"XXAAA\" - ex \"U235\" or \"Rb86\"\n",
    "\n",
    "energy = the line of interest in keV\n",
    "\n",
    "BR = the branching ratio of the line of interest\n",
    "\n",
    "rx_rate = the reaction rate per source particle in units of reactions/cm<sup>3</sup>/src (this can be obtained from simulation or a simple calculation). It assumes that the natural abundance of the isotope is accounted for in this rate.  \n",
    "\n",
    "foil_r = the foil radius in cm\n",
    "\n",
    "foil_h = the foil height in cm\n",
    "\n",
    "vol = the foil volume in cm<sup>3</sup>"
   ]
  },
  {
   "cell_type": "code",
   "execution_count": 10,
   "metadata": {
    "collapsed": false
   },
   "outputs": [
    {
     "name": "stdout",
     "output_type": "stream",
     "text": [
      "Reading Zr89\n",
      "Reading Ni57\n",
      "Reading Co58\n",
      "Reading In115M\n",
      "Reading In116M\n",
      "Reading Au196\n",
      "Reading Au198\n",
      "Reading Mg27\n",
      "Reading Na24\n"
     ]
    }
   ],
   "source": [
    "# Define the activity integrand accounting for all of the efficiencies\n",
    "def integrand(t):\n",
    "     return activity(half_life,n0,t)*abs_eff*BR/100\n",
    "\n",
    "# Load Excel file and read all rows and tabs\n",
    "wb = openpyxl.load_workbook(fname, data_only=True)\n",
    "for tab in wb.get_sheet_names():\n",
    "    # Import sheet object\n",
    "    sheet = wb.get_sheet_by_name(tab)\n",
    "\n",
    "    # Read in data\n",
    "    i=2   #Skip the header\n",
    "    plot_data=[]\n",
    "    plot_labels=[]\n",
    "    while sheet.cell(row=i, column=1).value != None:\n",
    "        rx=str(sheet.cell(row=i, column=1).value)\n",
    "        rx_prod=str(sheet.cell(row=i, column=2).value)\n",
    "        energy=float(sheet.cell(row=i, column=3).value)\n",
    "        BR=float(sheet.cell(row=i, column=4).value)\n",
    "        src=float(sheet.cell(row=i, column=5).value)\n",
    "        rx_rate=float(sheet.cell(row=i, column=6).value)\n",
    "        foil_r=float(sheet.cell(row=i, column=8).value)\n",
    "        foil_h=float(sheet.cell(row=i, column=9).value)\n",
    "        half_life=float(sheet.cell(row=i, column=14).value)\n",
    "        \n",
    "        print \"Reading {}\".format(rx_prod)\n",
    "        \n",
    "        # Calculate the foil volume\n",
    "        vol=np.pi*foil_r**2*foil_h\n",
    "        i+=1\n",
    "        \n",
    "        # Calculate the GCF\n",
    "        gcf=volume_solid_angle(foil_r,det_r,det2foil_dist)\n",
    "        \n",
    "        # Calculate absolute efficiency\n",
    "        rel_eff=germanium_eff(energy)\n",
    "        abs_eff=rel_eff*(gcf/fractional_solid_angle(det_r,det2foil_dist))\n",
    "        \n",
    "        # Calculate the count time for a given irradiation time and store the data\n",
    "        timeprs=[]\n",
    "        for src_t in range(60,86400,120):    # Irradiation time in seconds\n",
    "            # Calculate the initial number of atoms from the irradiation (assumes natural abundance is captured in rx_rate)\n",
    "            n0=production_decay(half_life, 0.0, src_t, rx_rate, src, vol, trans_t)\n",
    "            \n",
    "            # Approximate the optimal foil counting time using an average count rate\n",
    "            tf=1\n",
    "            diff=1000\n",
    "            try:\n",
    "                while diff > 1:\n",
    "                    prevt=tf\n",
    "                    S = quad(integrand, 0, tf)[0]/tf\n",
    "                    tf=((sqrt(S+background)+sqrt(background))**2/(sigma**2*S**2))/(1+1/sqrt((S+background)/background))  #Knoll eqn 3.54/55\n",
    "                    diff=tf-prevt\n",
    "            except ZeroDivisionError:\n",
    "                tf=1E99\n",
    "            timeprs.append([src_t,tf]) \n",
    "        \n",
    "        # Append to the data arrays\n",
    "        plot_data.append(timeprs)\n",
    "        plot_labels.append(rx)"
   ]
  },
  {
   "cell_type": "markdown",
   "metadata": {},
   "source": [
    "### Plots\n",
    "\n",
    "Bringing it all together...."
   ]
  },
  {
   "cell_type": "code",
   "execution_count": 12,
   "metadata": {
    "collapsed": false
   },
   "outputs": [],
   "source": [
    "# Allow use of Tex sybols\n",
    "plt.rc('text', usetex=True)\n",
    "\n",
    "# Set up figure\n",
    "fig = plt.figure()\n",
    "#ax1 = fig.add_subplot(111)\n",
    "ax1 = fig.add_axes([0.1, 0.1, 0.8, 0.85])\n",
    "\n",
    "# Preset data set format scheme\n",
    "s=10\n",
    "linewidth=['1.5','2.5','3.5','4.5']\n",
    "marker=['.','o','v','^','<','>','1','2','3','4','8','s','p','*','h','H','+','x','d','D']\n",
    "linestyle=[':', '-.', '--', '-','-']\n",
    "dashes=[[2, 2, 2, 2], [10, 5, 2, 5], [10, 5, 10, 5], [10, 2, 2, 2, 2, 2],\n",
    "        [10, 0.1]]\n",
    "\n",
    "# Set Line color cycle\n",
    "ax1.set_color_cycle(['k', 'k', 'k', 'k', 'k', 'r', 'r', 'r','r', 'r', 'b', 'b', 'b', 'b', 'b', 'grey', 'grey', 'grey', 'grey', 'grey'])\n",
    "#ax1.set_color_cycle(['k','b','g','r','c','m','y','w'])\n",
    "\n",
    "# Set axes\n",
    "ax1.axis([.1, 8600, .1, 50*2900])\n",
    "ax1.set_xscale('log')\n",
    "ax1.set_yscale('log')\n",
    "\n",
    "# Set axes labels and plot title.\n",
    "# ax1.set_title(\"Plot title...\")    \n",
    "ax1.set_xlabel('\\\\textbf{Irradiation Time [min]}', fontsize=18, weight=\"bold\")\n",
    "ax1.set_ylabel('\\\\textbf{Count Time [min]}', fontsize=18, weight=\"bold\")\n",
    "ax1.tick_params(axis='both', which='major', labelsize=18, width=2)\n",
    "ax1.tick_params(axis='both', which='minor', width=2)\n",
    "\n",
    "# Loop over the list of data\n",
    "for i in range(len(plot_labels)):\n",
    "    # Reset x and y data lists and index for lists\n",
    "    x=[]\n",
    "    y=[]\n",
    "\n",
    "    # Build list of x, y coord pairs  \n",
    "    for d in plot_data[i]:\n",
    "        x.append(d[0]/60) \n",
    "        y.append(d[1]/60)\n",
    "\n",
    "    # Add data set to line plot\n",
    "    ax1.plot(x, y, linewidth=linewidth[i//5], linestyle=linestyle[i%5], \n",
    "                label=plot_labels[i], dashes=dashes[i%5]) \n",
    "\n",
    "    # Add and locate legend\n",
    "    leg = ax1.legend()\n",
    "    plt.legend(borderaxespad=0.75, loc=2, fontsize=16, handlelength=5, borderpad=0.5,\\\n",
    "                labelspacing=0.75, fancybox=True, framealpha=0.5);\n",
    "\n",
    "plt.show()"
   ]
  },
  {
   "cell_type": "code",
   "execution_count": null,
   "metadata": {
    "collapsed": true
   },
   "outputs": [],
   "source": []
  }
 ],
 "metadata": {
  "kernelspec": {
   "display_name": "Python 2",
   "language": "python",
   "name": "python2"
  },
  "language_info": {
   "codemirror_mode": {
    "name": "ipython",
    "version": 2
   },
   "file_extension": ".py",
   "mimetype": "text/x-python",
   "name": "python",
   "nbconvert_exporter": "python",
   "pygments_lexer": "ipython2",
   "version": "2.7.6"
  }
 },
 "nbformat": 4,
 "nbformat_minor": 0
}
