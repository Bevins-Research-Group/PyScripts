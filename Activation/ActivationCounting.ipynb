{
 "cells": [
  {
   "cell_type": "markdown",
   "metadata": {},
   "source": [
    "### Required Functions\n",
    "\n",
    "Functions and methods required for notebook calculations"
   ]
  },
  {
   "cell_type": "code",
   "execution_count": 3,
   "metadata": {
    "collapsed": false
   },
   "outputs": [],
   "source": [
    "def CalcN_0(par, n, t, rate, src, vol, tt=0.0):\n",
    "    \"\"\"\n",
    "    Calculates the initial population of atoms post-irradiation  \n",
    "   \n",
    "    Parameters\n",
    "    ==========\n",
    "    par : PyNE nucname string\n",
    "        Id of the parent isotope\n",
    "    n: int\n",
    "        Initial number of parent atoms from previous irradiations\n",
    "    t: int\n",
    "        Irradiation time in sec\n",
    "    rate : float\n",
    "        The reaction rate in rx per sec per src per cm3\n",
    "    src : float\n",
    "        The source strength in n per sec    \n",
    "    vol : float\n",
    "        The volume of the foil in cm3  \n",
    "    tt: int\n",
    "        Post-irradiation transfer time in sec\n",
    "\n",
    "    Optional\n",
    "    ========\n",
    "        \n",
    "    Returns\n",
    "    =======\n",
    "    N_0 float\n",
    "        The number of atoms after irradiation time t \n",
    "    \"\"\" \n",
    "    \n",
    "    if par==\"In116M\":\n",
    "        N_0=rate*vol*src/2.12792E-4*(1-m.exp(-2.12792E-4*t))+n*m.exp(-2.12792E-4*t)\n",
    "        N_0=N_0*m.exp(-2.12792E-4**tt)\n",
    "    else:\n",
    "        N_0=rate*vol*src/data.decay_const(par)*(1-m.exp(-data.decay_const(par)*t))+n*m.exp(-data.decay_const(par)*t)\n",
    "        N_0=N_0*m.exp(-data.decay_const(par)*tt)\n",
    "    \n",
    "    return N_0\n",
    "\n",
    "#-------------------------------------------------------------------------------------------------------------#\n",
    "def Activity(t, par, n):\n",
    "    \"\"\"\n",
    "    Calculates the activity of a given isotope at time t after the irradiation.  \n",
    "   \n",
    "    Parameters\n",
    "    ==========\n",
    "    t: int\n",
    "        Time post irradiation\n",
    "    par : PyNE nucname string\n",
    "        Id of the parent isotope\n",
    "    n: int\n",
    "        Initial number of parent atoms\n",
    "\n",
    "    Optional\n",
    "    ========\n",
    "        \n",
    "    Returns\n",
    "    =======\n",
    "    act : float\n",
    "        The activity at time t in decays/s\n",
    "    \"\"\" \n",
    "    \n",
    "    if par==\"In116M\":\n",
    "        act=2.12792E-4*n*m.exp(-2.12792E-4*t)\n",
    "    else:\n",
    "        act=data.decay_const(par)*n*m.exp(-data.decay_const(par)*t)\n",
    "    \n",
    "    return act\n",
    "\n",
    "#-------------------------------------------------------------------------------------------------------------#\n",
    "def GCF(r_src, r_det, det2src):\n",
    "    \"\"\"\n",
    "    Calculates the solid angle geometry correction factor for the detector configuration from Knoll p. 119  \n",
    "   \n",
    "    Parameters\n",
    "    ==========\n",
    "    r_det : float\n",
    "        Radius of the detector in cm\n",
    "    r_src: float\n",
    "        Radius of the foil in cm\n",
    "    det2src: float\n",
    "        Distance from the detector to src in cm \n",
    "\n",
    "    Optional\n",
    "    ========\n",
    "        \n",
    "    Returns\n",
    "    =======\n",
    "    gcf : float\n",
    "        The gcf for the given configuration\n",
    "    \"\"\" \n",
    "\n",
    "    alpha=(r_src/det2src)**2\n",
    "    beta=(r_det/det2src)**2\n",
    "    f1=5./16.*(beta/(1+beta)**(7./2.))-35./64.*(beta**2/(1+beta)**(9./2.))\n",
    "    f2=35./128.*(beta/(1+beta)**(9./2.))-315./256.*(beta**2/(1+beta)**(11./2.))+1155./1028.*(beta**3/(1+beta)**(13./2.))\n",
    "    gcf=0.5*(1-1./(1+beta)**(1./2.)-3./8.*(alpha*beta/(1+beta)**(5./2.))+alpha**2*f1-alpha**3*f2)\n",
    "\n",
    "    return gcf\n",
    "\n",
    "#-------------------------------------------------------------------------------------------------------------#\n",
    "def CalcRelEff(e,det2src):\n",
    "    \"\"\"\n",
    "    Calculates the relative efficiency based on calibration curves at a given distance  \n",
    "   \n",
    "    Parameters\n",
    "    ==========\n",
    "    e : float\n",
    "        Incident gamma ray energy in keV\n",
    "    det2src: float\n",
    "        Distance from the detector to src in cm \n",
    "\n",
    "    Optional\n",
    "    ========\n",
    "        \n",
    "    Returns\n",
    "    =======\n",
    "    eff : float\n",
    "        The relative efficienty for the given configuration and line\n",
    "    \"\"\" \n",
    "    \n",
    "    if det2src==0:\n",
    "        eff=10**(0.6368*10-0.1175*10*m.log10(e)+0.9785*0.1*m.log10(e)**2-(0.3278*10**4)/(e**2))\n",
    "    elif det2src==1:\n",
    "        eff=10**(0.5166*10-0.4065*m.log10(e)-0.4308*0.1*m.log10(e)**2-0.1888*10**4/e**2)\n",
    "    elif det2src==2:\n",
    "        eff=10**(0.5722*10-0.8004*m.log10(e)+0.1418*0.1*m.log10(e)**2-0.2112*10**4/e**2)\n",
    "    elif det2src==3:\n",
    "        eff=10**(0.585*10-0.9388*m.log10(e)+0.3163*0.1*m.log10(e)**2-0.2266*10**4/e**2)\n",
    "    elif det2src==4:\n",
    "        eff=10**(0.5736*10-0.9279*m.log10(e)+0.2328*0.1*m.log10(e)**2-0.2373*10**4/e**2)\n",
    "    elif det2src==5:\n",
    "        eff=10**(0.6114*10-0.1225*10*m.log10(e)+0.6998*0.1*m.log10(e)**2-0.2768*10**4/e**2)\n",
    "    else:\n",
    "        print \"No calibration exists for that detector to source distance\"\n",
    "\n",
    "    return eff"
   ]
  },
  {
   "cell_type": "markdown",
   "metadata": {},
   "source": [
    "# Activation Counting Tools\n",
    "\n",
    "This notebook is to aid in determining optimal count times given a set of activations and experiments design parameters. It requires PyNE to be loaded for nuclear data purposes.\n",
    "\n",
    "Import the following packages:"
   ]
  },
  {
   "cell_type": "code",
   "execution_count": 4,
   "metadata": {
    "collapsed": false
   },
   "outputs": [
    {
     "name": "stderr",
     "output_type": "stream",
     "text": [
      "/usr/local/lib/python2.7/dist-packages/ipykernel/__main__.py:4: QAWarning: pyne.data is not yet QA compliant.\n"
     ]
    }
   ],
   "source": [
    "import numpy as np\n",
    "\n",
    "from pyne import data\n",
    "from pyne import nucname\n",
    "from scipy.integrate import quad\n",
    "\n",
    "\n",
    "# Path to support scripts \n",
    "sys.path.insert(0,os.path.abspath('/home/pyne-user/Dropbox/UCB/Computational_Tools/Scripts/Python/Support'))\n",
    "from BasicNuclearCalcs import FractionalSolidAngle, Activity, N_0\n",
    "from DetectorCals import volumeGCF, CalcRelEff"
   ]
  },
  {
   "cell_type": "markdown",
   "metadata": {},
   "source": [
    "## User Experimental Input\n",
    "\n",
    "Specify the experimental parameters determining the reaction rate.  This assumes that the T<sub>1/2</sub> is >> 1 seconds, which should be true for all practical experiments.\n",
    "\n",
    "### Beam Variables\n",
    "src = the neutron source strength in in n/sec\n",
    "\n",
    "src_t = irradition time in s"
   ]
  },
  {
   "cell_type": "code",
   "execution_count": 5,
   "metadata": {
    "collapsed": false
   },
   "outputs": [],
   "source": [
    "src=9944835105\n",
    "t=57600"
   ]
  },
  {
   "cell_type": "markdown",
   "metadata": {},
   "source": [
    "### Foil Variables\n",
    "foil = name of the foil reaction product written in the format \"XXAAA\" - ex \"U235\" or \"Rb86\"\n",
    "\n",
    "rx_rate = the reaction rate per source particle in units of reactions/cm<sup>3</sup>/src (this can be obtained from simulation or a simple calculation). It assumes that the natural abundance of the isotope is accounted for in this rate.  \n",
    "\n",
    "foil_r = the foil radius in cm\n",
    "\n",
    "foil_h = the foil height in cm\n",
    "\n",
    "foil_rho = the foil density in g cm<sup>-3</sup>\n",
    "\n",
    "vol = the foil volume in cm<sup>3</sup>\n",
    "\n",
    "trans_t = the foil transfer time post-irradiation in sec"
   ]
  },
  {
   "cell_type": "code",
   "execution_count": 6,
   "metadata": {
    "collapsed": false
   },
   "outputs": [
    {
     "name": "stdout",
     "output_type": "stream",
     "text": [
      "The number of Co58 atoms in the sample after irradiation and 0 s decay= 2.982e+09\n"
     ]
    }
   ],
   "source": [
    "#Basic foil parameters\n",
    "act_product=\"Co58\"\n",
    "rx_rate=2.66E-6\n",
    "foil_r=2.5\n",
    "foil_h=0.1\n",
    "foil_rho=8.908\n",
    "BR=99.45\n",
    "gamma_energy=810.76\n",
    "\n",
    "#Delay between irradiation and counting\n",
    "decay_t=0\n",
    "\n",
    "# Calculate the foil volume\n",
    "vol=np.pi*foil_r**2*foil_h\n",
    "\n",
    "# Calculate the initial number of atoms from the irradiation (assumes natural abundance is captured in rx_rate)\n",
    "N_0=CalcN_0(act_product, 0.0, t, rx_rate, src, vol, decay_t)\n",
    "\n",
    "print \"The number of {} atoms in the sample after irradiation and {} s decay= {:.3e}\".format(act_product,decay_t,N_0)"
   ]
  },
  {
   "cell_type": "markdown",
   "metadata": {},
   "source": [
    "### Decay Data\n",
    "\n",
    "The following uses PyNE to get decay data for the foil.  This is used to get the branching ratio of the primary gamma and provide general information about the decay radiation.\n",
    "\n",
    "Future revision can use this data to add automated functionality such as background count given the primary gamma.  "
   ]
  },
  {
   "cell_type": "code",
   "execution_count": 7,
   "metadata": {
    "collapsed": false,
    "scrolled": true
   },
   "outputs": [
    {
     "name": "stdout",
     "output_type": "stream",
     "text": [
      "Parent (t_1/2 [s])    Daughter    Level Transition     Gamma (keV)           BR (%)\n",
      "=======================================================================================\n",
      "Co58 (6122304.0)        Fe58            1->0           810.7593 +/-0.002         99.45\n",
      "Co58 (6122304.0)        Fe58M           2->1           863.951 +/-0.006         0.686205\n",
      "Co58 (6122304.0)        Fe58            2->0           1674.725 +/-0.007         0.51714\n",
      "\n",
      "\n",
      "\n",
      "WARNING:BR and gamma energy must be specified by user. PyNE automated interfaces removed due to incomplete data.\n"
     ]
    }
   ],
   "source": [
    "# Get level transitions\n",
    "decay_pairs = data.gamma_from_to_byparent(nucname.id(act_product))\n",
    "\n",
    "# Get gamma ray energies\n",
    "energies = data.gamma_energy(nucname.id(act_product))\n",
    "\n",
    "# Relative gamma intensities\n",
    "intensities = data.gamma_photon_intensity(nucname.id(act_product))\n",
    "\n",
    "# Converts the relative intensities to decays per 100 decays of the parent and print \n",
    "print \"Parent (t_1/2 [s])    Daughter    Level Transition     Gamma (keV)           BR (%)\"\n",
    "print \"=======================================================================================\"\n",
    "photonbr, photonbr_error = data.decay_photon_branch_ratio(nucname.id(act_product),decay_pairs[0][1])\n",
    "final_intensities = []\n",
    "for i in range(len(intensities)):\n",
    "    # compute the intensities by multiplying the branch ratio and the relative intensity; ignore the errors \n",
    "    final_intensities.append(photonbr*intensities[i][0])\n",
    "    print \"{} ({})        {:5s}           {}->{}           {} +/-{}         {}\".format(act_product, data.half_life(act_product), \n",
    "                                            nucname.name(decay_pairs[i][1]), decay_pairs[i][0]%100, \\\n",
    "                                            decay_pairs[i][1]%100, energies[i][0], energies[i][1],\\\n",
    "                                            final_intensities[-1])\n",
    "    \n",
    "print \"\\n\\n\\nWARNING:BR and gamma energy must be specified by user. PyNE automated interfaces removed due to incomplete data.\""
   ]
  },
  {
   "cell_type": "markdown",
   "metadata": {},
   "source": [
    "### Counting Facility Variables\n",
    "background = the background rate at the peak of interest in counts/s\n",
    "\n",
    "det_r = radius of the detector in cm\n",
    "\n",
    "det_foil_dist = the distance from the detector face to the foil in cm\n",
    "\n",
    "eff = the detection efficiency for a given gamma\n",
    "\n",
    "sigma = the desired counting statistics level"
   ]
  },
  {
   "cell_type": "code",
   "execution_count": 10,
   "metadata": {
    "collapsed": false
   },
   "outputs": [],
   "source": [
    "background=0.01\n",
    "det_r=5.08\n",
    "det2foil_dist=1\n",
    "sigma=0.01"
   ]
  },
  {
   "cell_type": "markdown",
   "metadata": {},
   "source": [
    "### Calculate the absolute efficiency\n",
    "\n",
    "Takes into account the geometry correction factor (gcf), detector intrinsic efficiency, and the energy and position dependence of those variables. Change the foil distance if significant dead time encountered."
   ]
  },
  {
   "cell_type": "code",
   "execution_count": 11,
   "metadata": {
    "collapsed": false
   },
   "outputs": [
    {
     "name": "stdout",
     "output_type": "stream",
     "text": [
      "4131.7589925 6016.5 2.6323\n",
      "The foil is 1 cm from the detector, and the dead time is 0.00606975650512%\n",
      "The GCF is 0.394064814077, and the overall absolute efficiency is 1.807700% @ 810.76 keV\n"
     ]
    }
   ],
   "source": [
    "while True:\n",
    "    # Calculate the GCF\n",
    "    gcf=GCF(foil_r,det_r,det2foil_dist)\n",
    "\n",
    "    # Calculate absolute efficiency\n",
    "    abs_cf=[(0,95775.80,4.7077),(1,6016.50,2.6323),(2,5694.63,1.952),(3,4392.66,1.4806),(4,3172.02,1.0245),(5,2643.60,0.8170)]\n",
    "    ref_rel_eff=abs_cf[det2foil_dist][1]\n",
    "    rel_eff=CalcRelEff(gamma_energy,det2foil_dist)\n",
    "    abs_eff=rel_eff/ref_rel_eff*abs_cf[det2foil_dist][2]\n",
    "    \n",
    "    print rel_eff, ref_rel_eff, abs_cf[det2foil_dist][2]\n",
    "\n",
    "    # Use a simple paralyzable model to calculate worst case scenario\n",
    "    n=Activity(0,act_product,N_0)*abs_eff/100*BR/100\n",
    "    tau=1E-5\n",
    "    meas=n*m.exp(-n*tau)\n",
    "\n",
    "    if n/meas>1.01:\n",
    "        det2foil_dist+=1\n",
    "    else:\n",
    "        break\n",
    "        \n",
    "    if det2foil_dist>5:\n",
    "        print \"ERROR: The foil is hot!\"\n",
    "        break\n",
    "\n",
    "print \"The foil is {} cm from the detector, and the dead time is {}%\".format(det2foil_dist,(n/meas-1)*100)\n",
    "print \"The GCF is {}, and the overall absolute efficiency is {:2f}% @ {} keV\".format(gcf,abs_eff,gamma_energy)"
   ]
  },
  {
   "cell_type": "markdown",
   "metadata": {},
   "source": [
    "### Counting time calculations\n",
    "\n",
    "Bringing it all together...."
   ]
  },
  {
   "cell_type": "code",
   "execution_count": 46,
   "metadata": {
    "collapsed": false
   },
   "outputs": [
    {
     "name": "stdout",
     "output_type": "stream",
     "text": [
      "The activity of Co58 in the sample at the start of counting (0 s after irradiation) = 335.762079176\n",
      "The specific activity of Co58 in the sample at the start of counting (0 s after irradiation) = 19.1964776304\n",
      "The integrated count rate in the detector over the counting period is 6.069\n",
      "The optimal count time for the Co58 foil with a desired statistical level of sigma=0.01 is 1717 sec [0.48 hr].\n",
      "The optimal time for background counting is 70 sec [0.02 hr]\n"
     ]
    }
   ],
   "source": [
    "# Define the activity integrand accounting for all of the efficiencies\n",
    "def integrand(t):\n",
    "    return Activity(t,act_product,N_0)*abs_eff/100*BR/100\n",
    "    \n",
    "# Report the starting activities\n",
    "print \"The activity of {} in the sample at the start of counting ({} s after irradiation) = {}\"\\\n",
    "       .format(act_product,decay_t,Activity(0,act_product,N_0)*BR/100)\n",
    "print \"The specific activity of {} in the sample at the start of counting ({} s after irradiation) = {}\"\\\n",
    "       .format(act_product,decay_t,Activity(0,act_product,N_0)*BR/100/(vol*foil_rho))\n",
    "\n",
    "# Approximate the optimal foil counting time using an average count rate\n",
    "tf=1\n",
    "diff=1000\n",
    "try:\n",
    "    while diff > 1:\n",
    "        prevt=tf\n",
    "        S = quad(integrand, 0, tf)[0]/tf\n",
    "        tf=((m.sqrt(S+background)+m.sqrt(background))**2/(sigma**2*S**2))/(1+1/m.sqrt((S+background)/background))  #Knoll eqn 3.54/55\n",
    "        diff=tf-prevt\n",
    "    print \"The integrated count rate in the detector over the counting period is {:.3f}\".format(S)\n",
    "    print \"The optimal count time for the {} foil with a desired statistical level of sigma={} is {:.0f} sec [{:.2f} hr].\"\\\n",
    "          .format(act_product,sigma,tf,tf/3600)\n",
    "    # Calculate the optimal time for background counting\n",
    "    tb=tf/m.sqrt((S+background)/background)\n",
    "    print \"The optimal time for background counting is {:.0f} sec [{:.2f} hr]\".format(tb,tb/3600)\n",
    "except ZeroDivisionError:\n",
    "    tf=1E99\n",
    "    print \"The desired level of statistics cannot be achieved with this setup\"\n"
   ]
  },
  {
   "cell_type": "code",
   "execution_count": 50,
   "metadata": {
    "collapsed": false
   },
   "outputs": [
    {
     "name": "stdout",
     "output_type": "stream",
     "text": [
      "6.06898232843 0.01 0.01\n",
      "1717.37738828\n"
     ]
    }
   ],
   "source": [
    "print S, background, sigma\n",
    "print ((m.sqrt(S+background)+m.sqrt(background))**2/(sigma**2*S**2))/(1+1/m.sqrt((S+background)/background))"
   ]
  },
  {
   "cell_type": "code",
   "execution_count": null,
   "metadata": {
    "collapsed": true
   },
   "outputs": [],
   "source": []
  }
 ],
 "metadata": {
  "kernelspec": {
   "display_name": "Python 2",
   "language": "python",
   "name": "python2"
  },
  "language_info": {
   "codemirror_mode": {
    "name": "ipython",
    "version": 2
   },
   "file_extension": ".py",
   "mimetype": "text/x-python",
   "name": "python",
   "nbconvert_exporter": "python",
   "pygments_lexer": "ipython2",
   "version": "2.7.6"
  }
 },
 "nbformat": 4,
 "nbformat_minor": 0
}
